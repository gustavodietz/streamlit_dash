{
 "cells": [
  {
   "cell_type": "code",
   "execution_count": 3,
   "metadata": {
    "collapsed": true
   },
   "outputs": [],
   "source": [
    "import pandas as pd\n",
    "import plotly.express as px\n",
    "from google.oauth2 import service_account\n",
    "from google.cloud import bigquery\n",
    "import streamlit as st\n"
   ]
  },
  {
   "cell_type": "code",
   "execution_count": 4,
   "outputs": [
    {
     "name": "stderr",
     "output_type": "stream",
     "text": [
      "2022-01-26 17:34:12.298 \n",
      "  \u001B[33m\u001B[1mWarning:\u001B[0m to view this Streamlit app on a browser, run it with the following\n",
      "  command:\n",
      "\n",
      "    streamlit run /Users/gustavodiez/Library/Caches/pypoetry/virtualenvs/streamlit-dash-9GqNcUWI-py3.9/lib/python3.9/site-packages/ipykernel_launcher.py [ARGUMENTS]\n"
     ]
    },
    {
     "ename": "FileNotFoundError",
     "evalue": "[Errno 2] No such file or directory: '/Users/gustavodiez/PycharmProjects/streamlit_dash/notebooks/.streamlit/secrets.toml'",
     "output_type": "error",
     "traceback": [
      "\u001B[0;31m---------------------------------------------------------------------------\u001B[0m",
      "\u001B[0;31mFileNotFoundError\u001B[0m                         Traceback (most recent call last)",
      "Input \u001B[0;32mIn [4]\u001B[0m, in \u001B[0;36m<module>\u001B[0;34m\u001B[0m\n\u001B[1;32m      1\u001B[0m \u001B[38;5;66;03m# Create API client.\u001B[39;00m\n\u001B[1;32m      2\u001B[0m credentials \u001B[38;5;241m=\u001B[39m service_account\u001B[38;5;241m.\u001B[39mCredentials\u001B[38;5;241m.\u001B[39mfrom_service_account_info(\n\u001B[0;32m----> 3\u001B[0m     \u001B[43mst\u001B[49m\u001B[38;5;241;43m.\u001B[39;49m\u001B[43msecrets\u001B[49m\u001B[43m[\u001B[49m\u001B[38;5;124;43m\"\u001B[39;49m\u001B[38;5;124;43mgcp_service_account\u001B[39;49m\u001B[38;5;124;43m\"\u001B[39;49m\u001B[43m]\u001B[49m\n\u001B[1;32m      4\u001B[0m )\n\u001B[1;32m      5\u001B[0m client \u001B[38;5;241m=\u001B[39m bigquery\u001B[38;5;241m.\u001B[39mClient(credentials\u001B[38;5;241m=\u001B[39mcredentials)\n\u001B[1;32m      7\u001B[0m \u001B[38;5;66;03m# Perform query.\u001B[39;00m\n\u001B[1;32m      8\u001B[0m \u001B[38;5;66;03m# Uses st.cache to only rerun when the query changes or after 10 min.\u001B[39;00m\n",
      "File \u001B[0;32m~/Library/Caches/pypoetry/virtualenvs/streamlit-dash-9GqNcUWI-py3.9/lib/python3.9/site-packages/streamlit/secrets.py:222\u001B[0m, in \u001B[0;36mSecrets.__getitem__\u001B[0;34m(self, key)\u001B[0m\n\u001B[1;32m    220\u001B[0m \u001B[38;5;28;01mdef\u001B[39;00m \u001B[38;5;21m__getitem__\u001B[39m(\u001B[38;5;28mself\u001B[39m, key: \u001B[38;5;28mstr\u001B[39m) \u001B[38;5;241m-\u001B[39m\u001B[38;5;241m>\u001B[39m Any:\n\u001B[1;32m    221\u001B[0m     \u001B[38;5;28;01mtry\u001B[39;00m:\n\u001B[0;32m--> 222\u001B[0m         value \u001B[38;5;241m=\u001B[39m \u001B[38;5;28;43mself\u001B[39;49m\u001B[38;5;241;43m.\u001B[39;49m\u001B[43m_parse\u001B[49m\u001B[43m(\u001B[49m\u001B[38;5;28;43;01mTrue\u001B[39;49;00m\u001B[43m)\u001B[49m[key]\n\u001B[1;32m    223\u001B[0m         \u001B[38;5;28;01mif\u001B[39;00m \u001B[38;5;129;01mnot\u001B[39;00m \u001B[38;5;28misinstance\u001B[39m(value, \u001B[38;5;28mdict\u001B[39m):\n\u001B[1;32m    224\u001B[0m             \u001B[38;5;28;01mreturn\u001B[39;00m value\n",
      "File \u001B[0;32m~/Library/Caches/pypoetry/virtualenvs/streamlit-dash-9GqNcUWI-py3.9/lib/python3.9/site-packages/streamlit/secrets.py:141\u001B[0m, in \u001B[0;36mSecrets._parse\u001B[0;34m(self, print_exceptions)\u001B[0m\n\u001B[1;32m    138\u001B[0m     \u001B[38;5;28;01mreturn\u001B[39;00m \u001B[38;5;28mself\u001B[39m\u001B[38;5;241m.\u001B[39m_secrets\n\u001B[1;32m    140\u001B[0m \u001B[38;5;28;01mtry\u001B[39;00m:\n\u001B[0;32m--> 141\u001B[0m     \u001B[38;5;28;01mwith\u001B[39;00m \u001B[38;5;28;43mopen\u001B[39;49m\u001B[43m(\u001B[49m\u001B[38;5;28;43mself\u001B[39;49m\u001B[38;5;241;43m.\u001B[39;49m\u001B[43m_file_path\u001B[49m\u001B[43m,\u001B[49m\u001B[43m \u001B[49m\u001B[43mencoding\u001B[49m\u001B[38;5;241;43m=\u001B[39;49m\u001B[38;5;124;43m\"\u001B[39;49m\u001B[38;5;124;43mutf-8\u001B[39;49m\u001B[38;5;124;43m\"\u001B[39;49m\u001B[43m)\u001B[49m \u001B[38;5;28;01mas\u001B[39;00m f:\n\u001B[1;32m    142\u001B[0m         secrets_file_str \u001B[38;5;241m=\u001B[39m f\u001B[38;5;241m.\u001B[39mread()\n\u001B[1;32m    143\u001B[0m \u001B[38;5;28;01mexcept\u001B[39;00m \u001B[38;5;167;01mFileNotFoundError\u001B[39;00m:\n",
      "\u001B[0;31mFileNotFoundError\u001B[0m: [Errno 2] No such file or directory: '/Users/gustavodiez/PycharmProjects/streamlit_dash/notebooks/.streamlit/secrets.toml'"
     ]
    }
   ],
   "source": [
    "# Create API client.\n",
    "credentials = service_account.Credentials.from_service_account_info(\n",
    "    st.secrets[\"gcp_service_account\"]\n",
    ")\n",
    "client = bigquery.Client(credentials=credentials)\n",
    "\n",
    "# Perform query.\n",
    "# Uses st.cache to only rerun when the query changes or after 10 min.\n",
    "@st.cache(ttl=600)\n",
    "def run_query(query):\n",
    "    query_job = client.query(query)\n",
    "    rows_raw = query_job.result()\n",
    "    # Convert to list of dicts. Required for st.cache to hash the return value.\n",
    "    rows = [dict(row) for row in rows_raw]\n",
    "    return rows\n",
    "\n",
    "rows = run_query(\"SELECT * FROM psycho_research.df_demographics\")\n"
   ],
   "metadata": {
    "collapsed": false,
    "pycharm": {
     "name": "#%%\n"
    }
   }
  }
 ],
 "metadata": {
  "kernelspec": {
   "display_name": "Python 3",
   "language": "python",
   "name": "python3"
  },
  "language_info": {
   "codemirror_mode": {
    "name": "ipython",
    "version": 2
   },
   "file_extension": ".py",
   "mimetype": "text/x-python",
   "name": "python",
   "nbconvert_exporter": "python",
   "pygments_lexer": "ipython2",
   "version": "2.7.6"
  }
 },
 "nbformat": 4,
 "nbformat_minor": 0
}